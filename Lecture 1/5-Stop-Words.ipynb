{
 "cells": [
  {
   "cell_type": "markdown",
   "metadata": {},
   "source": [
    "# Stop Words\n",
    "Words like \"a\" and \"the\" appear so frequently that they don't require tagging as thoroughly as nouns, verbs and modifiers. We call these *stop words*, and they can be filtered from the text to be processed. spaCy holds a built-in list of some 305 English stop words."
   ]
  },
  {
   "cell_type": "code",
   "execution_count": 1,
   "metadata": {},
   "outputs": [],
   "source": [
    "# Perform standard imports:\n",
    "import spacy\n",
    "nlp = spacy.load('en_core_web_sm')"
   ]
  },
  {
   "cell_type": "code",
   "execution_count": 3,
   "metadata": {},
   "outputs": [
    {
     "name": "stdout",
     "output_type": "stream",
     "text": [
      "{'among', 'everything', 'herself', 'it', 'wherein', 'they', 'may', 'but', 'thereafter', 'per', \"n't\", 'meanwhile', 'one', 'six', \"'ve\", 'thus', 'whether', 'although', 'be', 'whom', 'everywhere', 'few', 'must', 'does', 'two', 'five', 'against', '‘d', 'make', 'whole', 'give', 'several', 'unless', 'the', 'go', 'eleven', 'down', 'when', '’ve', 'often', 'his', 'anyone', 'would', 'further', 'own', 'to', 'how', 'somewhere', 'least', 'sometimes', 'these', 'many', 'say', 'just', '‘m', 'some', 'side', 'across', 'in', 'who', 'you', 'anyhow', 'after', 'her', 'hundred', 'seeming', 'well', 'now', 'show', 'quite', 'twenty', 'whereafter', 'above', 'then', 'whither', 'whereby', 'full', 'below', 'almost', 'someone', 'latter', 'made', 'more', 'whereas', 'any', 'something', '’s', '‘s', 'ten', 'had', 'yourself', 'should', 'indeed', 'thereupon', 'can', 'become', 'yourselves', 'once', 'beyond', 'again', 'amount', 'used', 'or', 'been', 'into', 'could', 'this', 'former', 'using', 'themselves', 'we', 'up', 'during', 'by', 'were', 'already', 'becoming', 'yours', 'its', 'out', 'nothing', 'take', 'less', 'besides', 'became', 'mostly', 'around', 'together', 'off', 'hence', 'due', 'always', 'throughout', 'done', 'latterly', 'nowhere', '‘re', 'as', 'upon', 'a', 'being', 'except', '’m', 'seem', 'becomes', 'them', 'nobody', \"'m\", 'for', 'onto', 'through', 'forty', 'those', 'both', 'since', 'if', 'within', 'your', 'toward', 'hereby', 'he', 're', 'call', 'keep', 'various', 'rather', 'therefore', 'four', 'him', 'third', 'thru', 'such', 'regarding', '‘ll', 'last', 'where', 'whence', 'perhaps', 'sometime', 'i', 'every', 'namely', 'hereupon', 'seemed', 'on', 'another', 'without', 'has', 'himself', 'noone', 'otherwise', 'nine', 'never', 'back', 'no', \"'re\", 'than', 'see', 'elsewhere', 'however', 'top', 'amongst', 'until', 'which', 'eight', 'whatever', 'n’t', 'itself', 'seems', 'towards', 'here', 'wherever', 'hers', 'herein', 'did', 'put', 'there', 'n‘t', 'same', 'anything', 'yet', 'whenever', 'neither', 'twelve', '‘ve', 'bottom', 'via', 'either', 'an', 'serious', 'before', 'move', 'of', 'others', 'get', 'everyone', 'am', 'nevertheless', 'hereafter', 'whoever', 'behind', 'formerly', \"'ll\", \"'s\", 'so', 'sixty', 'all', 'cannot', 'mine', 'over', 'most', 'really', 'anyway', 'will', 'even', 'other', 'ever', 'though', 'not', 'doing', 'very', '’re', 'ca', 'along', 'that', \"'d\", 'was', 'moreover', 'whose', 'because', 'none', 'ours', 'have', 'nor', '’ll', 'she', 'whereupon', 'beside', 'our', 'enough', 'name', 'too', 'anywhere', 'afterwards', 'still', 'why', 'thence', 'fifty', 'next', 'beforehand', 'part', 'else', 'much', 'only', 'do', 'my', 'empty', 'is', 'three', 'first', 'me', 'ourselves', 'with', 'somehow', 'under', 'myself', 'might', 'while', 'fifteen', 'please', 'and', '’d', 'between', 'about', 'are', 'from', 'their', 'thereby', 'what', 'front', 'also', 'at', 'us', 'therein', 'each', 'alone'}\n"
     ]
    }
   ],
   "source": [
    "# Print the set of spaCy's default stop words (remember that sets are unordered):\n",
    "print(nlp.Defaults.stop_words)"
   ]
  },
  {
   "cell_type": "code",
   "execution_count": 4,
   "metadata": {},
   "outputs": [
    {
     "data": {
      "text/plain": [
       "326"
      ]
     },
     "execution_count": 4,
     "metadata": {},
     "output_type": "execute_result"
    }
   ],
   "source": [
    "len(nlp.Defaults.stop_words)"
   ]
  },
  {
   "cell_type": "markdown",
   "metadata": {},
   "source": [
    "## To see if a word is a stop word"
   ]
  },
  {
   "cell_type": "code",
   "execution_count": 5,
   "metadata": {},
   "outputs": [
    {
     "data": {
      "text/plain": [
       "True"
      ]
     },
     "execution_count": 5,
     "metadata": {},
     "output_type": "execute_result"
    }
   ],
   "source": [
    "nlp.vocab['myself'].is_stop"
   ]
  },
  {
   "cell_type": "code",
   "execution_count": 6,
   "metadata": {},
   "outputs": [
    {
     "data": {
      "text/plain": [
       "False"
      ]
     },
     "execution_count": 6,
     "metadata": {},
     "output_type": "execute_result"
    }
   ],
   "source": [
    "nlp.vocab['mystery'].is_stop"
   ]
  },
  {
   "cell_type": "markdown",
   "metadata": {},
   "source": [
    "## To add a stop word\n",
    "There may be times when you wish to add a stop word to the default set. Perhaps you decide that `'btw'` (common shorthand for \"by the way\") should be considered a stop word."
   ]
  },
  {
   "cell_type": "code",
   "execution_count": 7,
   "metadata": {},
   "outputs": [],
   "source": [
    "# Add the word to the set of stop words. Use lowercase!\n",
    "nlp.Defaults.stop_words.add('btw')\n",
    "\n",
    "# Set the stop_word tag on the lexeme\n",
    "nlp.vocab['btw'].is_stop = True"
   ]
  },
  {
   "cell_type": "code",
   "execution_count": 8,
   "metadata": {},
   "outputs": [
    {
     "data": {
      "text/plain": [
       "327"
      ]
     },
     "execution_count": 8,
     "metadata": {},
     "output_type": "execute_result"
    }
   ],
   "source": [
    "len(nlp.Defaults.stop_words)"
   ]
  },
  {
   "cell_type": "code",
   "execution_count": 9,
   "metadata": {},
   "outputs": [
    {
     "data": {
      "text/plain": [
       "True"
      ]
     },
     "execution_count": 9,
     "metadata": {},
     "output_type": "execute_result"
    }
   ],
   "source": [
    "nlp.vocab['btw'].is_stop"
   ]
  },
  {
   "cell_type": "markdown",
   "metadata": {},
   "source": [
    "<font color=green>When adding stop words, always use lowercase. Lexemes are converted to lowercase before being added to **vocab**.</font>"
   ]
  },
  {
   "cell_type": "markdown",
   "metadata": {},
   "source": [
    "## To remove a stop word\n",
    "Alternatively, you may decide that `'beyond'` should not be considered a stop word."
   ]
  },
  {
   "cell_type": "code",
   "execution_count": 10,
   "metadata": {},
   "outputs": [],
   "source": [
    "# Remove the word from the set of stop words\n",
    "nlp.Defaults.stop_words.remove('beyond')\n",
    "\n",
    "# Remove the stop_word tag from the lexeme\n",
    "nlp.vocab['beyond'].is_stop = False"
   ]
  },
  {
   "cell_type": "code",
   "execution_count": 11,
   "metadata": {},
   "outputs": [
    {
     "data": {
      "text/plain": [
       "326"
      ]
     },
     "execution_count": 11,
     "metadata": {},
     "output_type": "execute_result"
    }
   ],
   "source": [
    "len(nlp.Defaults.stop_words)"
   ]
  },
  {
   "cell_type": "code",
   "execution_count": 12,
   "metadata": {},
   "outputs": [
    {
     "data": {
      "text/plain": [
       "False"
      ]
     },
     "execution_count": 12,
     "metadata": {},
     "output_type": "execute_result"
    }
   ],
   "source": [
    "nlp.vocab['beyond'].is_stop"
   ]
  },
  {
   "cell_type": "code",
   "execution_count": null,
   "metadata": {},
   "outputs": [],
   "source": []
  }
 ],
 "metadata": {
  "kernelspec": {
   "display_name": "Python 3 (ipykernel)",
   "language": "python",
   "name": "python3"
  },
  "language_info": {
   "codemirror_mode": {
    "name": "ipython",
    "version": 3
   },
   "file_extension": ".py",
   "mimetype": "text/x-python",
   "name": "python",
   "nbconvert_exporter": "python",
   "pygments_lexer": "ipython3",
   "version": "3.11.7"
  }
 },
 "nbformat": 4,
 "nbformat_minor": 4
}
